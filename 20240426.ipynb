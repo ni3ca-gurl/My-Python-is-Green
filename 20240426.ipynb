{
 "cells": [
  {
   "cell_type": "raw",
   "id": "4562de7b-eb68-48d4-b796-3ddd02d7d688",
   "metadata": {},
   "source": [
    "I. Basic Numbers and Arithmetic"
   ]
  },
  {
   "cell_type": "code",
   "execution_count": 1,
   "id": "a420ec21-aae5-45c1-857b-7dc36a9c4fc2",
   "metadata": {},
   "outputs": [
    {
     "data": {
      "text/plain": [
       "3"
      ]
     },
     "execution_count": 1,
     "metadata": {},
     "output_type": "execute_result"
    }
   ],
   "source": [
    "2+1"
   ]
  },
  {
   "cell_type": "code",
   "execution_count": 3,
   "id": "1effad1b-c503-4048-9202-35f6e11bd939",
   "metadata": {},
   "outputs": [
    {
     "data": {
      "text/plain": [
       "4"
      ]
     },
     "execution_count": 3,
     "metadata": {},
     "output_type": "execute_result"
    }
   ],
   "source": [
    "2*2"
   ]
  },
  {
   "cell_type": "code",
   "execution_count": 4,
   "id": "ef50c172-3beb-429b-a729-ba0b56e95775",
   "metadata": {},
   "outputs": [
    {
     "data": {
      "text/plain": [
       "1.5"
      ]
     },
     "execution_count": 4,
     "metadata": {},
     "output_type": "execute_result"
    }
   ],
   "source": [
    "3/2"
   ]
  },
  {
   "cell_type": "markdown",
   "id": "4fefdb00-2ed1-4111-b377-e98796d7f905",
   "metadata": {},
   "source": [
    "Modulo or Mod Operator"
   ]
  },
  {
   "cell_type": "code",
   "execution_count": 5,
   "id": "86eb081b-8792-4451-94be-d61b347bf965",
   "metadata": {},
   "outputs": [
    {
     "data": {
      "text/plain": [
       "1.75"
      ]
     },
     "execution_count": 5,
     "metadata": {},
     "output_type": "execute_result"
    }
   ],
   "source": [
    "7 / 4"
   ]
  },
  {
   "cell_type": "code",
   "execution_count": 6,
   "id": "7a1ea322-b52e-4feb-812f-df67d9188c79",
   "metadata": {},
   "outputs": [
    {
     "data": {
      "text/plain": [
       "3"
      ]
     },
     "execution_count": 6,
     "metadata": {},
     "output_type": "execute_result"
    }
   ],
   "source": [
    "7 % 4"
   ]
  },
  {
   "cell_type": "code",
   "execution_count": 7,
   "id": "55150309-dc79-4413-bc15-1db32b71b2d7",
   "metadata": {},
   "outputs": [
    {
     "data": {
      "text/plain": [
       "0"
      ]
     },
     "execution_count": 7,
     "metadata": {},
     "output_type": "execute_result"
    }
   ],
   "source": [
    "50 % 5"
   ]
  },
  {
   "cell_type": "code",
   "execution_count": 8,
   "id": "552bb2cb-91dd-45d3-a7f3-fc4e3e621e6a",
   "metadata": {},
   "outputs": [
    {
     "data": {
      "text/plain": [
       "1"
      ]
     },
     "execution_count": 8,
     "metadata": {},
     "output_type": "execute_result"
    }
   ],
   "source": [
    "23 % 2"
   ]
  },
  {
   "cell_type": "code",
   "execution_count": 9,
   "id": "cc6b108f-6a08-4e58-a14a-915b7990c87d",
   "metadata": {},
   "outputs": [
    {
     "data": {
      "text/plain": [
       "8"
      ]
     },
     "execution_count": 9,
     "metadata": {},
     "output_type": "execute_result"
    }
   ],
   "source": [
    "2 ** 3"
   ]
  },
  {
   "cell_type": "code",
   "execution_count": 10,
   "id": "c7d4679a-1c90-46f9-adc8-6303f0fa8bf0",
   "metadata": {},
   "outputs": [
    {
     "data": {
      "text/plain": [
       "105"
      ]
     },
     "execution_count": 10,
     "metadata": {},
     "output_type": "execute_result"
    }
   ],
   "source": [
    "2 + 10 * 10 + 3"
   ]
  },
  {
   "cell_type": "code",
   "execution_count": 11,
   "id": "24574c29-0a3b-45a2-b05b-c3c2034bb0e0",
   "metadata": {},
   "outputs": [
    {
     "data": {
      "text/plain": [
       "156"
      ]
     },
     "execution_count": 11,
     "metadata": {},
     "output_type": "execute_result"
    }
   ],
   "source": [
    "( 2 + 10 ) * ( 10 + 3 )"
   ]
  },
  {
   "cell_type": "markdown",
   "id": "789801f1-3cfb-46f4-9c3e-70813d4d4466",
   "metadata": {},
   "source": [
    "Simple Arithmetic\n",
    "Numbers FAQ \r\n",
    "\r\n",
    "1. What's the difference between floating point and an integer?\r\n",
    "\r\n",
    "An integer has no decimals in it, a floating point number can display digits past the decimal point.\r\n",
    "\r\n",
    "2. Why doesn't 0.1+0.2-0.3 equal 0.0 ?\r\n",
    "\r\n",
    "This has to do with floating point accuracy and computer's abilities to represent numbers in memory. For a full breakdown, check out: https://docs.python.org/2/tutorial/floatingpoint.html"
   ]
  },
  {
   "cell_type": "code",
   "execution_count": 12,
   "id": "c53fce6f-47ac-457c-9e87-c109d951816c",
   "metadata": {},
   "outputs": [
    {
     "data": {
      "text/plain": [
       "0.30000000000000004"
      ]
     },
     "execution_count": 12,
     "metadata": {},
     "output_type": "execute_result"
    }
   ],
   "source": [
    "0.1 + 0.2"
   ]
  },
  {
   "cell_type": "code",
   "execution_count": 13,
   "id": "e3989ff3-1e78-4339-9475-08286a2bb61a",
   "metadata": {},
   "outputs": [
    {
     "data": {
      "text/plain": [
       "5.551115123125783e-17"
      ]
     },
     "execution_count": 13,
     "metadata": {},
     "output_type": "execute_result"
    }
   ],
   "source": [
    "0.1 + 0.2 - 0.3"
   ]
  },
  {
   "cell_type": "code",
   "execution_count": 14,
   "id": "09e7d36e-556e-457b-8b5e-69eb0ab91bd1",
   "metadata": {},
   "outputs": [
    {
     "data": {
      "text/plain": [
       "0.1"
      ]
     },
     "execution_count": 14,
     "metadata": {},
     "output_type": "execute_result"
    }
   ],
   "source": [
    "1/10"
   ]
  },
  {
   "cell_type": "code",
   "execution_count": 15,
   "id": "6e7bef3c-8500-4de8-87d2-822d08347c2e",
   "metadata": {},
   "outputs": [
    {
     "data": {
      "text/plain": [
       "0.02"
      ]
     },
     "execution_count": 15,
     "metadata": {},
     "output_type": "execute_result"
    }
   ],
   "source": [
    "2/100"
   ]
  },
  {
   "cell_type": "code",
   "execution_count": 16,
   "id": "50df838a-b12b-431c-b054-1bbd98b3a2a0",
   "metadata": {},
   "outputs": [
    {
     "data": {
      "text/plain": [
       "0.005"
      ]
     },
     "execution_count": 16,
     "metadata": {},
     "output_type": "execute_result"
    }
   ],
   "source": [
    "5/1000"
   ]
  },
  {
   "cell_type": "code",
   "execution_count": 17,
   "id": "6501b141-74c8-4d28-a671-b4aca4266421",
   "metadata": {},
   "outputs": [
    {
     "data": {
      "text/plain": [
       "0.7250000000000001"
      ]
     },
     "execution_count": 17,
     "metadata": {},
     "output_type": "execute_result"
    }
   ],
   "source": [
    "0.2 + 0.4 + 1/8"
   ]
  },
  {
   "cell_type": "code",
   "execution_count": 18,
   "id": "b866e62b-d06f-434a-b2f3-a2cdd4f2768c",
   "metadata": {},
   "outputs": [
    {
     "data": {
      "text/plain": [
       "0.6000000000000001"
      ]
     },
     "execution_count": 18,
     "metadata": {},
     "output_type": "execute_result"
    }
   ],
   "source": [
    "0.2 +0.4"
   ]
  },
  {
   "cell_type": "code",
   "execution_count": 19,
   "id": "a3c06546-b240-4b01-8851-3184046aee5a",
   "metadata": {},
   "outputs": [
    {
     "data": {
      "text/plain": [
       "0.125"
      ]
     },
     "execution_count": 19,
     "metadata": {},
     "output_type": "execute_result"
    }
   ],
   "source": [
    "1/8"
   ]
  },
  {
   "cell_type": "raw",
   "id": "569825e7-a7f5-4ede-bf59-b5e918ae6a4f",
   "metadata": {},
   "source": [
    "II. Variable Assignment\n",
    "Rules for Variables names\n",
    " Names can not start with a number.\n",
    " THere are no spaces in the name, use \"_\".\n",
    " Keep names in lowercase.\n",
    " Avoid using special words in Python as names.\n",
    " Avoid special characters in names.\n",
    "\n",
    "Python Variables are dynamically typed. You can change the data type of a variable anytime in the code.\n"
   ]
  },
  {
   "cell_type": "code",
   "execution_count": 21,
   "id": "c2d07084-1850-41ce-b268-f9ead57732c4",
   "metadata": {},
   "outputs": [],
   "source": [
    "a = 5"
   ]
  },
  {
   "cell_type": "code",
   "execution_count": 22,
   "id": "a51fefc5-3fe6-4d0b-803f-47cae7150c18",
   "metadata": {},
   "outputs": [
    {
     "data": {
      "text/plain": [
       "5"
      ]
     },
     "execution_count": 22,
     "metadata": {},
     "output_type": "execute_result"
    }
   ],
   "source": [
    "a"
   ]
  },
  {
   "cell_type": "code",
   "execution_count": 23,
   "id": "4d8728b3-33a8-4aa3-89a6-816d3d53e30b",
   "metadata": {},
   "outputs": [],
   "source": [
    "a = 10"
   ]
  },
  {
   "cell_type": "code",
   "execution_count": 24,
   "id": "0dc10154-f60d-4e06-830c-e959c7d62148",
   "metadata": {},
   "outputs": [
    {
     "data": {
      "text/plain": [
       "10"
      ]
     },
     "execution_count": 24,
     "metadata": {},
     "output_type": "execute_result"
    }
   ],
   "source": [
    "a"
   ]
  },
  {
   "cell_type": "code",
   "execution_count": 25,
   "id": "5528395b-58cf-4c2d-a3ad-a6f8da3ead48",
   "metadata": {},
   "outputs": [
    {
     "data": {
      "text/plain": [
       "20"
      ]
     },
     "execution_count": 25,
     "metadata": {},
     "output_type": "execute_result"
    }
   ],
   "source": [
    "a + a"
   ]
  },
  {
   "cell_type": "code",
   "execution_count": 34,
   "id": "124daa3e-5f68-4f6b-8f92-008db3d58271",
   "metadata": {},
   "outputs": [],
   "source": [
    "a = a + a"
   ]
  },
  {
   "cell_type": "code",
   "execution_count": 35,
   "id": "2125c928-2e4b-4539-8b79-c7d08f445f5c",
   "metadata": {},
   "outputs": [
    {
     "data": {
      "text/plain": [
       "320"
      ]
     },
     "execution_count": 35,
     "metadata": {},
     "output_type": "execute_result"
    }
   ],
   "source": [
    "a"
   ]
  },
  {
   "cell_type": "raw",
   "id": "2630e427-923c-445a-b413-02996ad888f9",
   "metadata": {},
   "source": [
    "If you dont know what type is a"
   ]
  },
  {
   "cell_type": "code",
   "execution_count": 36,
   "id": "df60bfcd-a72e-45a0-ad12-169c7cb2802c",
   "metadata": {},
   "outputs": [
    {
     "data": {
      "text/plain": [
       "int"
      ]
     },
     "execution_count": 36,
     "metadata": {},
     "output_type": "execute_result"
    }
   ],
   "source": [
    "type(a)"
   ]
  },
  {
   "cell_type": "code",
   "execution_count": 37,
   "id": "afb4b6a5-238b-4c45-b3a9-7d55af888314",
   "metadata": {},
   "outputs": [],
   "source": [
    "a = 30.1"
   ]
  },
  {
   "cell_type": "code",
   "execution_count": 38,
   "id": "b2fbac55-2467-4c8d-be22-63629c5967c4",
   "metadata": {},
   "outputs": [
    {
     "data": {
      "text/plain": [
       "float"
      ]
     },
     "execution_count": 38,
     "metadata": {},
     "output_type": "execute_result"
    }
   ],
   "source": [
    "type(a)"
   ]
  },
  {
   "cell_type": "code",
   "execution_count": 41,
   "id": "4c40f219-583f-4c28-bf48-6d716213f159",
   "metadata": {},
   "outputs": [],
   "source": [
    "my_income = 100\n",
    "\n",
    "tax_rate = 0.1\n",
    "\n",
    "my_taxes = my_income * tax_rate"
   ]
  },
  {
   "cell_type": "code",
   "execution_count": 42,
   "id": "cd2944e6-2bbd-48eb-8416-18d1ff1cb46c",
   "metadata": {},
   "outputs": [
    {
     "data": {
      "text/plain": [
       "10.0"
      ]
     },
     "execution_count": 42,
     "metadata": {},
     "output_type": "execute_result"
    }
   ],
   "source": [
    "my_taxes"
   ]
  },
  {
   "cell_type": "raw",
   "id": "ad05746e-c94a-4c82-9d50-63e4fac55834",
   "metadata": {},
   "source": [
    "Strings\n",
    "Strings are sequence of characters.\n",
    "using syntax of either '' or \"\".\n",
    "\n",
    "Strings are ordered sequences.\n",
    "We can use indexing and slicing.\n",
    "\n",
    "Indexing []\n",
    "When you want to grab a single character in a string.\n",
    "Index starts at 0 (zero).\n",
    "You can do reverse indexing, if you want to grab the last letter of a string regardless of its length.\n",
    "\n",
    "Character:      h   e   l   l   o\n",
    "Index:          0   1   2   3   4\n",
    "Reverse Index:  0  -4  -3  -2  -1\n",
    "\n",
    "Slicing [start:stop:step]\n",
    "Slicing allows you to grab a subsection of multiple characters, a \"slice\" of the string.\n",
    "\n",
    "start is a numerical index for the slice start.\n",
    "stop is the index you will go up to (but not include)\n",
    "step is the size of the \"jump\" you take.\n",
    "\n",
    "Lines that start with hashtags # are comments.\n"
   ]
  },
  {
   "cell_type": "raw",
   "id": "b3cee79b-eefb-4223-84fe-ff6e67a80fd7",
   "metadata": {},
   "source": [
    "Sample of Strings:"
   ]
  },
  {
   "cell_type": "code",
   "execution_count": 43,
   "id": "3e29dc45-b77b-4046-8b22-f5275a33d4e1",
   "metadata": {},
   "outputs": [
    {
     "data": {
      "text/plain": [
       "'hello'"
      ]
     },
     "execution_count": 43,
     "metadata": {},
     "output_type": "execute_result"
    }
   ],
   "source": [
    "'hello'"
   ]
  },
  {
   "cell_type": "code",
   "execution_count": 44,
   "id": "0a6faa37-aa34-4e94-90f8-953b3b5ecd11",
   "metadata": {},
   "outputs": [
    {
     "data": {
      "text/plain": [
       "'world'"
      ]
     },
     "execution_count": 44,
     "metadata": {},
     "output_type": "execute_result"
    }
   ],
   "source": [
    "\"world\""
   ]
  },
  {
   "cell_type": "markdown",
   "id": "1dada4a6-d23a-45e3-bb6b-9aa81c852c16",
   "metadata": {},
   "source": [
    "'this is also a string'"
   ]
  },
  {
   "cell_type": "code",
   "execution_count": 47,
   "id": "ff6651ab-c833-4514-baa7-52e359f372ae",
   "metadata": {},
   "outputs": [
    {
     "data": {
      "text/plain": [
       "\"I'm going on a run\""
      ]
     },
     "execution_count": 47,
     "metadata": {},
     "output_type": "execute_result"
    }
   ],
   "source": [
    "\"I'm going on a run\""
   ]
  },
  {
   "cell_type": "code",
   "execution_count": 48,
   "id": "481497ef-57a6-4a5e-b88b-459e7978c7db",
   "metadata": {},
   "outputs": [
    {
     "name": "stdout",
     "output_type": "stream",
     "text": [
      "hello\n"
     ]
    }
   ],
   "source": [
    "print(\"hello\")"
   ]
  },
  {
   "cell_type": "code",
   "execution_count": 49,
   "id": "17e19282-0f45-4bc7-92ff-4c201c74e02a",
   "metadata": {},
   "outputs": [
    {
     "name": "stdout",
     "output_type": "stream",
     "text": [
      "hello world one\n",
      "hello world two\n"
     ]
    }
   ],
   "source": [
    "print(\"hello world one\")\n",
    "print(\"hello world two\")"
   ]
  },
  {
   "cell_type": "code",
   "execution_count": 50,
   "id": "0df705c6-5f5f-4b18-beef-1740bb9d5217",
   "metadata": {},
   "outputs": [
    {
     "name": "stdout",
     "output_type": "stream",
     "text": [
      "hello \n",
      " world\n"
     ]
    }
   ],
   "source": [
    "print('hello \\n world')"
   ]
  },
  {
   "cell_type": "code",
   "execution_count": 52,
   "id": "d3d1623c-82af-4672-91a6-a3572eb0f68c",
   "metadata": {},
   "outputs": [
    {
     "name": "stdout",
     "output_type": "stream",
     "text": [
      "print\n",
      "world\n"
     ]
    }
   ],
   "source": [
    "print('print\\nworld')"
   ]
  },
  {
   "cell_type": "code",
   "execution_count": 53,
   "id": "1d942298-bff1-41bb-aaf9-da1c6b03492a",
   "metadata": {},
   "outputs": [
    {
     "name": "stdout",
     "output_type": "stream",
     "text": [
      "hello \tworld\n"
     ]
    }
   ],
   "source": [
    "print('hello \\tworld')"
   ]
  },
  {
   "cell_type": "code",
   "execution_count": 54,
   "id": "fe1ba614-9785-4fd1-abb1-2755ac0bdf25",
   "metadata": {},
   "outputs": [
    {
     "data": {
      "text/plain": [
       "5"
      ]
     },
     "execution_count": 54,
     "metadata": {},
     "output_type": "execute_result"
    }
   ],
   "source": [
    "len('hello')"
   ]
  },
  {
   "cell_type": "raw",
   "id": "7359fa51-ac3e-4ffc-a0e0-f8ef2892b0ea",
   "metadata": {},
   "source": [
    "Indexing and Slicing"
   ]
  },
  {
   "cell_type": "code",
   "execution_count": 57,
   "id": "c08787e0-22cc-45f8-8cf9-38c0d97f2d24",
   "metadata": {},
   "outputs": [],
   "source": [
    "mystring = \"Hello World\""
   ]
  },
  {
   "cell_type": "code",
   "execution_count": 58,
   "id": "bcc2e199-f73d-42ab-ab92-9c7737f0da4b",
   "metadata": {},
   "outputs": [
    {
     "data": {
      "text/plain": [
       "'Hello World'"
      ]
     },
     "execution_count": 58,
     "metadata": {},
     "output_type": "execute_result"
    }
   ],
   "source": [
    "mystring"
   ]
  },
  {
   "cell_type": "code",
   "execution_count": 59,
   "id": "d1e51011-07b2-4f13-bc50-2e8810109f32",
   "metadata": {},
   "outputs": [
    {
     "data": {
      "text/plain": [
       "'H'"
      ]
     },
     "execution_count": 59,
     "metadata": {},
     "output_type": "execute_result"
    }
   ],
   "source": [
    "mystring[0]"
   ]
  },
  {
   "cell_type": "code",
   "execution_count": 60,
   "id": "1cca3156-2ae5-4327-8af0-a488cbfcdcb8",
   "metadata": {},
   "outputs": [
    {
     "data": {
      "text/plain": [
       "'r'"
      ]
     },
     "execution_count": 60,
     "metadata": {},
     "output_type": "execute_result"
    }
   ],
   "source": [
    "mystring[8]"
   ]
  },
  {
   "cell_type": "code",
   "execution_count": 61,
   "id": "e97d36b7-0805-4805-ba10-0faf4f9b128e",
   "metadata": {},
   "outputs": [
    {
     "data": {
      "text/plain": [
       "'l'"
      ]
     },
     "execution_count": 61,
     "metadata": {},
     "output_type": "execute_result"
    }
   ],
   "source": [
    "mystring[9]"
   ]
  },
  {
   "cell_type": "code",
   "execution_count": 62,
   "id": "029ba40d-52cd-45b7-8603-07d93cad2369",
   "metadata": {},
   "outputs": [
    {
     "data": {
      "text/plain": [
       "'l'"
      ]
     },
     "execution_count": 62,
     "metadata": {},
     "output_type": "execute_result"
    }
   ],
   "source": [
    "mystring[-2]"
   ]
  },
  {
   "cell_type": "code",
   "execution_count": 63,
   "id": "d40d3271-c873-49f6-acb2-31ab34fc30a4",
   "metadata": {},
   "outputs": [
    {
     "data": {
      "text/plain": [
       "'d'"
      ]
     },
     "execution_count": 63,
     "metadata": {},
     "output_type": "execute_result"
    }
   ],
   "source": [
    "mystring[-1]"
   ]
  },
  {
   "cell_type": "code",
   "execution_count": 64,
   "id": "9a6ab0cb-7452-4b69-9e20-b545e70b6658",
   "metadata": {},
   "outputs": [
    {
     "data": {
      "text/plain": [
       "'Hello World'"
      ]
     },
     "execution_count": 64,
     "metadata": {},
     "output_type": "execute_result"
    }
   ],
   "source": [
    "mystring"
   ]
  },
  {
   "cell_type": "code",
   "execution_count": 65,
   "id": "aebe2556-acc2-48f8-bb24-cfb5111dc54a",
   "metadata": {},
   "outputs": [],
   "source": [
    "mystring = 'abcdefghijk'"
   ]
  },
  {
   "cell_type": "code",
   "execution_count": 66,
   "id": "e7bd5413-61b6-440d-9d25-8391351f4be1",
   "metadata": {},
   "outputs": [
    {
     "data": {
      "text/plain": [
       "'abcdefghijk'"
      ]
     },
     "execution_count": 66,
     "metadata": {},
     "output_type": "execute_result"
    }
   ],
   "source": [
    "mystring"
   ]
  },
  {
   "cell_type": "code",
   "execution_count": 67,
   "id": "22f6f9ec-f976-49b3-8f4a-a60e82e704c8",
   "metadata": {},
   "outputs": [
    {
     "data": {
      "text/plain": [
       "'c'"
      ]
     },
     "execution_count": 67,
     "metadata": {},
     "output_type": "execute_result"
    }
   ],
   "source": [
    "mystring[2]"
   ]
  },
  {
   "cell_type": "code",
   "execution_count": 68,
   "id": "08ea750f-3c6f-4b5c-8715-7bacd8e5ab7a",
   "metadata": {},
   "outputs": [
    {
     "data": {
      "text/plain": [
       "'cdefghijk'"
      ]
     },
     "execution_count": 68,
     "metadata": {},
     "output_type": "execute_result"
    }
   ],
   "source": [
    "mystring[2:]"
   ]
  },
  {
   "cell_type": "code",
   "execution_count": 69,
   "id": "9fb1754d-0cbd-413d-aaaa-b33f187f905f",
   "metadata": {},
   "outputs": [
    {
     "data": {
      "text/plain": [
       "'abc'"
      ]
     },
     "execution_count": 69,
     "metadata": {},
     "output_type": "execute_result"
    }
   ],
   "source": [
    "mystring[:3]"
   ]
  },
  {
   "cell_type": "code",
   "execution_count": 70,
   "id": "8dacc7c5-99b7-425c-9c7a-c510465437a8",
   "metadata": {},
   "outputs": [
    {
     "data": {
      "text/plain": [
       "'def'"
      ]
     },
     "execution_count": 70,
     "metadata": {},
     "output_type": "execute_result"
    }
   ],
   "source": [
    "mystring[3:6]"
   ]
  },
  {
   "cell_type": "code",
   "execution_count": 71,
   "id": "c50d3067-4e05-4bc1-b33e-39412b8b236b",
   "metadata": {},
   "outputs": [
    {
     "data": {
      "text/plain": [
       "'bc'"
      ]
     },
     "execution_count": 71,
     "metadata": {},
     "output_type": "execute_result"
    }
   ],
   "source": [
    "mystring[1:3]"
   ]
  },
  {
   "cell_type": "code",
   "execution_count": 72,
   "id": "4701b329-3917-49af-9bd9-f0683c978b40",
   "metadata": {},
   "outputs": [
    {
     "data": {
      "text/plain": [
       "'abcdefghijk'"
      ]
     },
     "execution_count": 72,
     "metadata": {},
     "output_type": "execute_result"
    }
   ],
   "source": [
    "mystring[::]"
   ]
  },
  {
   "cell_type": "code",
   "execution_count": 73,
   "id": "60bb0a4c-2d36-40f6-95f6-fab0176476c3",
   "metadata": {},
   "outputs": [
    {
     "data": {
      "text/plain": [
       "'acegik'"
      ]
     },
     "execution_count": 73,
     "metadata": {},
     "output_type": "execute_result"
    }
   ],
   "source": [
    "mystring[::2]"
   ]
  },
  {
   "cell_type": "code",
   "execution_count": 76,
   "id": "084887ae-c361-4f3e-b41c-20880e3420fa",
   "metadata": {},
   "outputs": [
    {
     "data": {
      "text/plain": [
       "'acegik'"
      ]
     },
     "execution_count": 76,
     "metadata": {},
     "output_type": "execute_result"
    }
   ],
   "source": [
    "mystring[0::2]"
   ]
  },
  {
   "cell_type": "code",
   "execution_count": 78,
   "id": "c08cb68a-3fbe-4489-bbb3-dd464743af5c",
   "metadata": {},
   "outputs": [
    {
     "data": {
      "text/plain": [
       "'ceg'"
      ]
     },
     "execution_count": 78,
     "metadata": {},
     "output_type": "execute_result"
    }
   ],
   "source": [
    "mystring[2:7:2]"
   ]
  },
  {
   "cell_type": "code",
   "execution_count": 79,
   "id": "90ccbdfc-c98d-44cb-a81f-55cee21379d6",
   "metadata": {},
   "outputs": [
    {
     "data": {
      "text/plain": [
       "'kjihgfedcba'"
      ]
     },
     "execution_count": 79,
     "metadata": {},
     "output_type": "execute_result"
    }
   ],
   "source": [
    "mystring[::-1]"
   ]
  },
  {
   "cell_type": "raw",
   "id": "04427d1b-72bd-4f3c-9841-313550d8c878",
   "metadata": {},
   "source": [
    "String Properties and Methods\n",
    "\n",
    "Immutability of Strings\n",
    "'str' object does not support item assignment"
   ]
  },
  {
   "cell_type": "code",
   "execution_count": 80,
   "id": "524a5ecf-feb6-46c5-a460-23beb88231c3",
   "metadata": {},
   "outputs": [],
   "source": [
    "name = \"Sam\""
   ]
  },
  {
   "cell_type": "code",
   "execution_count": 101,
   "id": "9002fcdd-b6f5-4082-bf43-834ddb2df73e",
   "metadata": {},
   "outputs": [],
   "source": [
    "#name[0] = 'P'\n",
    "#results to an error:\n",
    "#---------------------------------------------------------------------------\n",
    "#TypeError                                 Traceback (most recent call last)\n",
    "#Cell In[81], line 1\n",
    "#----> 1 name[0] = 'P'\n",
    "\n",
    "#TypeError: 'str' object does not support item assignment \n"
   ]
  },
  {
   "cell_type": "code",
   "execution_count": null,
   "id": "ebae3dbc-89f8-4988-829d-762facdfb06b",
   "metadata": {},
   "outputs": [],
   "source": [
    "last_letter = name[1:]"
   ]
  },
  {
   "cell_type": "code",
   "execution_count": 85,
   "id": "8a74eaa8-21ea-4153-822f-cb532ad2401a",
   "metadata": {},
   "outputs": [
    {
     "data": {
      "text/plain": [
       "'am'"
      ]
     },
     "execution_count": 85,
     "metadata": {},
     "output_type": "execute_result"
    }
   ],
   "source": [
    "last_letter"
   ]
  },
  {
   "cell_type": "code",
   "execution_count": 86,
   "id": "761b22d2-674a-4d8f-a91b-e8fee5c18e70",
   "metadata": {},
   "outputs": [
    {
     "data": {
      "text/plain": [
       "'Pam'"
      ]
     },
     "execution_count": 86,
     "metadata": {},
     "output_type": "execute_result"
    }
   ],
   "source": [
    "'P' + last_letter"
   ]
  },
  {
   "cell_type": "code",
   "execution_count": 94,
   "id": "813de286-0cc4-4e48-8219-2d89556cebaa",
   "metadata": {},
   "outputs": [],
   "source": [
    "x = 'Hello World'"
   ]
  },
  {
   "cell_type": "code",
   "execution_count": 95,
   "id": "20b9f976-73be-4b4a-a4c7-49bd536dbcbd",
   "metadata": {},
   "outputs": [
    {
     "data": {
      "text/plain": [
       "'Hello World it is beautiful outside!'"
      ]
     },
     "execution_count": 95,
     "metadata": {},
     "output_type": "execute_result"
    }
   ],
   "source": [
    "x + \" it is beautiful outside!\""
   ]
  },
  {
   "cell_type": "code",
   "execution_count": 96,
   "id": "f561caaf-6b52-475b-8930-13e5142a0887",
   "metadata": {},
   "outputs": [
    {
     "data": {
      "text/plain": [
       "'Hello World'"
      ]
     },
     "execution_count": 96,
     "metadata": {},
     "output_type": "execute_result"
    }
   ],
   "source": [
    "x"
   ]
  },
  {
   "cell_type": "code",
   "execution_count": 99,
   "id": "90d6edd0-9818-43b3-a221-e55d8fbfe419",
   "metadata": {},
   "outputs": [],
   "source": [
    "x = x + \" it is beautiful outside!\""
   ]
  },
  {
   "cell_type": "code",
   "execution_count": 100,
   "id": "5be6dcb5-cf5b-4cf1-9feb-f4cccd078d4f",
   "metadata": {},
   "outputs": [
    {
     "data": {
      "text/plain": [
       "'Hello World it is beautiful outside! it is beautiful outside! it is beautiful outside!'"
      ]
     },
     "execution_count": 100,
     "metadata": {},
     "output_type": "execute_result"
    }
   ],
   "source": [
    "x"
   ]
  },
  {
   "cell_type": "code",
   "execution_count": 102,
   "id": "d66080f1-b056-4d03-bf22-c296dbfe85dc",
   "metadata": {},
   "outputs": [],
   "source": [
    "letter = 'z'"
   ]
  },
  {
   "cell_type": "code",
   "execution_count": 103,
   "id": "8f71e069-e4ae-4b70-9975-3186c60aae11",
   "metadata": {},
   "outputs": [
    {
     "data": {
      "text/plain": [
       "'zzzzzzzzzz'"
      ]
     },
     "execution_count": 103,
     "metadata": {},
     "output_type": "execute_result"
    }
   ],
   "source": [
    "letter * 10"
   ]
  },
  {
   "cell_type": "raw",
   "id": "ae363ff8-468c-4a35-b387-125e59a8970a",
   "metadata": {},
   "source": [
    "!Keep in mind that you can get errors if you try to concatenate strings with a number."
   ]
  },
  {
   "cell_type": "code",
   "execution_count": 104,
   "id": "b51c1966-272f-4101-beec-1e8d0b27e48a",
   "metadata": {},
   "outputs": [
    {
     "data": {
      "text/plain": [
       "5"
      ]
     },
     "execution_count": 104,
     "metadata": {},
     "output_type": "execute_result"
    }
   ],
   "source": [
    "2 + 3"
   ]
  },
  {
   "cell_type": "code",
   "execution_count": 105,
   "id": "c9fedb32-a6f2-401c-9a52-b1eac80897a8",
   "metadata": {},
   "outputs": [
    {
     "data": {
      "text/plain": [
       "'23'"
      ]
     },
     "execution_count": 105,
     "metadata": {},
     "output_type": "execute_result"
    }
   ],
   "source": [
    "'2' + '3'"
   ]
  },
  {
   "cell_type": "raw",
   "id": "3a223783-03cb-41a6-afc4-5b26fa4ffe52",
   "metadata": {},
   "source": [
    "'2' + 3\n",
    "\n",
    "will result to an error:\n"
   ]
  },
  {
   "cell_type": "raw",
   "id": "921a2a3b-eae6-44ec-a22b-70205ba1d8f9",
   "metadata": {},
   "source": [
    "Strings have methods you can invoke when you type (.) after a variable containing the string."
   ]
  },
  {
   "cell_type": "code",
   "execution_count": 108,
   "id": "273c6c12-4b96-424b-8211-044bc53b9787",
   "metadata": {},
   "outputs": [],
   "source": [
    "x = 'Hello World'"
   ]
  },
  {
   "cell_type": "code",
   "execution_count": 109,
   "id": "f63f1338-8741-4762-8e01-fbab9823d789",
   "metadata": {},
   "outputs": [
    {
     "name": "stdout",
     "output_type": "stream",
     "text": [
      "Hello World\n"
     ]
    }
   ],
   "source": [
    "print(x)"
   ]
  },
  {
   "cell_type": "code",
   "execution_count": 110,
   "id": "ec0f631a-8a82-453f-bc0f-370f24b33fbe",
   "metadata": {},
   "outputs": [
    {
     "data": {
      "text/plain": [
       "'HELLO WORLD'"
      ]
     },
     "execution_count": 110,
     "metadata": {},
     "output_type": "execute_result"
    }
   ],
   "source": [
    "x.upper()"
   ]
  },
  {
   "cell_type": "code",
   "execution_count": 111,
   "id": "250c127c-91d7-44f8-8e13-9883ec82c293",
   "metadata": {},
   "outputs": [
    {
     "name": "stdout",
     "output_type": "stream",
     "text": [
      "HELLO WORLD\n"
     ]
    }
   ],
   "source": [
    "x = x.upper()\n",
    "print(x)"
   ]
  },
  {
   "cell_type": "code",
   "execution_count": 112,
   "id": "f53f5d59-2964-479b-98e5-4e2463321cff",
   "metadata": {},
   "outputs": [
    {
     "data": {
      "text/plain": [
       "'hello world'"
      ]
     },
     "execution_count": 112,
     "metadata": {},
     "output_type": "execute_result"
    }
   ],
   "source": [
    "x.lower()"
   ]
  },
  {
   "cell_type": "code",
   "execution_count": 113,
   "id": "d7ff2b34-af6b-46be-a1cf-4c45b03f6a83",
   "metadata": {},
   "outputs": [
    {
     "data": {
      "text/plain": [
       "['HELLO', 'WORLD']"
      ]
     },
     "execution_count": 113,
     "metadata": {},
     "output_type": "execute_result"
    }
   ],
   "source": [
    "x.split()"
   ]
  },
  {
   "cell_type": "code",
   "execution_count": 114,
   "id": "32625017-6e4f-4b23-866a-9fd020bd48e4",
   "metadata": {},
   "outputs": [],
   "source": [
    "x = 'Hi this is a string'"
   ]
  },
  {
   "cell_type": "code",
   "execution_count": 115,
   "id": "463c9905-d942-42d0-b9b0-d2fb27ea3ead",
   "metadata": {},
   "outputs": [
    {
     "data": {
      "text/plain": [
       "['Hi', 'this', 'is', 'a', 'string']"
      ]
     },
     "execution_count": 115,
     "metadata": {},
     "output_type": "execute_result"
    }
   ],
   "source": [
    "x.split()\n",
    "\n",
    "#by default split(), splits on the white space unless you specify a delimiter.\n"
   ]
  },
  {
   "cell_type": "code",
   "execution_count": 117,
   "id": "b8769721-63aa-4be5-822f-16210a5b76ed",
   "metadata": {},
   "outputs": [
    {
     "data": {
      "text/plain": [
       "['H', ' th', 's ', 's a str', 'ng']"
      ]
     },
     "execution_count": 117,
     "metadata": {},
     "output_type": "execute_result"
    }
   ],
   "source": [
    "x.split('i')"
   ]
  },
  {
   "cell_type": "raw",
   "id": "07ea73a4-6613-4a2e-95a2-ea474045879d",
   "metadata": {},
   "source": [
    "Strings FAQ\n",
    "\n",
    "1. Are strings mutable?\n",
    "\n",
    "Strings are not mutable! (meaning you can't use indexing to change individual elements of a string)\n",
    "\n",
    "2. How do I create comments in my code?\n",
    "\n",
    "You can use the hashtag # to create comments in your code.\n"
   ]
  },
  {
   "cell_type": "raw",
   "id": "b418ba33-ed16-4093-806d-2d2556433858",
   "metadata": {},
   "source": [
    "String Formatting for Printing\n",
    "\n",
    "String Interpolation = inject a variable into a string for printing.\n",
    "a.k.a.  \"stick a variable to a string\"\n",
    "\n",
    "Example:\n",
    "        my_name = \"Jose\"\n",
    "        print(\"Hello\" + my_name)\n",
    "\n",
    "@ methods for string interpolation:\n",
    " .format() method\n",
    " f-strings (formatted string literals)\n"
   ]
  },
  {
   "cell_type": "code",
   "execution_count": 118,
   "id": "33d87411-e956-4b34-8020-c1ef7119c060",
   "metadata": {},
   "outputs": [
    {
     "name": "stdout",
     "output_type": "stream",
     "text": [
      "This is a string INSERTED\n"
     ]
    }
   ],
   "source": [
    "#Formatting with the .format() method\n",
    "#To format objects into your stings for print statements with the string .format() method.\n",
    "#The syntax:\n",
    "#\n",
    "#'String here {} then also {}'.format('something1','something2'\n",
    "\n",
    "print('This is a string {}'.format('INSERTED'))"
   ]
  },
  {
   "cell_type": "code",
   "execution_count": 119,
   "id": "353b814f-d58b-4ba0-be7a-e6333864d46b",
   "metadata": {},
   "outputs": [
    {
     "name": "stdout",
     "output_type": "stream",
     "text": [
      "The fox brown quick\n"
     ]
    }
   ],
   "source": [
    "#INSERT STRING BY INDEX POSITION\n",
    "print('The {} {} {}'.format('fox','brown','quick'))"
   ]
  },
  {
   "cell_type": "code",
   "execution_count": 120,
   "id": "7601fadf-f162-45b8-9bb9-a0918967fd85",
   "metadata": {},
   "outputs": [
    {
     "name": "stdout",
     "output_type": "stream",
     "text": [
      "The quick brown fox\n"
     ]
    }
   ],
   "source": [
    "print('The {2} {1} {0}'.format('fox','brown','quick'))"
   ]
  },
  {
   "cell_type": "code",
   "execution_count": 121,
   "id": "deaebcbf-9bf1-4c34-a4f2-808fd6d44770",
   "metadata": {},
   "outputs": [
    {
     "name": "stdout",
     "output_type": "stream",
     "text": [
      "The fox fox fox\n"
     ]
    }
   ],
   "source": [
    "print('The {0} {0} {0}'.format('fox','brown','quick'))"
   ]
  },
  {
   "cell_type": "code",
   "execution_count": 125,
   "id": "00b6be1b-e7c0-44da-acea-d0c84eef2618",
   "metadata": {},
   "outputs": [
    {
     "name": "stdout",
     "output_type": "stream",
     "text": [
      "The quick brown fox\n"
     ]
    }
   ],
   "source": [
    "#ASSIGN BY KEYWORDS\n",
    "print('The {q} {b} {f}'.format(f='fox', b='brown', q='quick'))"
   ]
  },
  {
   "cell_type": "code",
   "execution_count": 126,
   "id": "e3a57444-58f1-4f5c-9ce0-991d9e4343c0",
   "metadata": {},
   "outputs": [
    {
     "name": "stdout",
     "output_type": "stream",
     "text": [
      "The fox fox fox\n"
     ]
    }
   ],
   "source": [
    "print('The {f} {f} {f}'.format(f='fox', b='brown', q='quick'))"
   ]
  },
  {
   "cell_type": "raw",
   "id": "bd3b64ac-3d47-488f-ab5f-7314274ab746",
   "metadata": {},
   "source": [
    "Float formatting using .format() method\n"
   ]
  },
  {
   "cell_type": "code",
   "execution_count": 127,
   "id": "fc1fd051-8e5e-4bf0-8cd3-fd2e35e59dd4",
   "metadata": {},
   "outputs": [],
   "source": [
    "result = 100 / 777"
   ]
  },
  {
   "cell_type": "code",
   "execution_count": 141,
   "id": "fc27dc66-a52f-42c1-bd06-dc8e8bf82a1b",
   "metadata": {},
   "outputs": [],
   "source": [
    "result = 104.12345"
   ]
  },
  {
   "cell_type": "code",
   "execution_count": 143,
   "id": "99c0472f-e2b3-47be-9cc7-19d19147f4e8",
   "metadata": {},
   "outputs": [
    {
     "name": "stdout",
     "output_type": "stream",
     "text": [
      "The result was 104.12345\n",
      "The result was 104.123\n",
      "The result was    104.123\n"
     ]
    }
   ],
   "source": [
    "#change the level of precision and width of the number \n",
    "#Float formatting follows: \"{valu:width.precision f}\"\n",
    "\n",
    "print(\"The result was {r}\".format(r=result))\n",
    "print(\"The result was {r:1.3f}\".format(r=result))\n",
    "print(\"The result was {r:10.3f}\".format(r=result))"
   ]
  },
  {
   "cell_type": "code",
   "execution_count": 144,
   "id": "c0f60ee3-3e75-41db-970d-5dd1eeeb7257",
   "metadata": {},
   "outputs": [
    {
     "name": "stdout",
     "output_type": "stream",
     "text": [
      "The result was  104.12345\n"
     ]
    }
   ],
   "source": [
    "print(\"The result was {r:10.5f}\".format(r=result))"
   ]
  },
  {
   "cell_type": "code",
   "execution_count": 145,
   "id": "d2fca96d-0870-45b8-9a7c-133a478c0775",
   "metadata": {},
   "outputs": [],
   "source": [
    "#Formatting with the f-string method\n",
    "#New to Python 3.\n",
    "#The syntax:\n",
    "#\n",
    "#'print(f'string {variable}')\n"
   ]
  },
  {
   "cell_type": "code",
   "execution_count": 146,
   "id": "de794cfe-940b-46d2-b1b3-37d6cd8cf79b",
   "metadata": {},
   "outputs": [
    {
     "name": "stdout",
     "output_type": "stream",
     "text": [
      "Hello, his name is Sam\n"
     ]
    }
   ],
   "source": [
    "name = 'Sam'\n",
    "print(f'Hello, his name is {name}')"
   ]
  },
  {
   "cell_type": "code",
   "execution_count": 148,
   "id": "5dae0b6f-ccd0-4009-bc92-da356761dca6",
   "metadata": {},
   "outputs": [
    {
     "name": "stdout",
     "output_type": "stream",
     "text": [
      "Sam is 3 years old.\n"
     ]
    }
   ],
   "source": [
    "name = 'Sam'\n",
    "age = 3\n",
    "print(f'{name} is {age} years old.')"
   ]
  },
  {
   "cell_type": "raw",
   "id": "03cc88c4-da58-4857-ad9b-316f06f2e8db",
   "metadata": {},
   "source": [
    "Print Formatting FAQS\n",
    "\n",
    "1.) I imported print from the __future__ module, now print isn't working. What happened?\n",
    "\n",
    "This is because once you import from the __future__ module in Python 2.7, a print statement will no longer work, and print must then use a print() function. Meaning that you must use\n",
    "\n",
    "print('Whatever you were going to print')\n",
    "\n",
    "or if you are using some formatting:\n",
    "\n",
    "print('This is a string with an {p}'.format(p='insert'))\n",
    "\n",
    "The __future__ module allows you to use Python3 functionality in a Python2 environment, but some functionality is overwritten (such as the print statement, or classic division when you import division).\n",
    "\n",
    "Since we are using Jupyter Notebooks, once you so the import, all cells will require the use if the print() function. You will have to restart Python or start a new notebook to regain the old functionality back.\n",
    "\n",
    "HERE IS AN AWESOME SOURCE FOR PRINT FORMATTING:\n",
    "\n",
    "https://pyformat.info/\n"
   ]
  },
  {
   "cell_type": "code",
   "execution_count": null,
   "id": "e3dac743-1be0-43be-a4a7-8465fcbfe109",
   "metadata": {},
   "outputs": [],
   "source": []
  }
 ],
 "metadata": {
  "kernelspec": {
   "display_name": "Python 3 (ipykernel)",
   "language": "python",
   "name": "python3"
  },
  "language_info": {
   "codemirror_mode": {
    "name": "ipython",
    "version": 3
   },
   "file_extension": ".py",
   "mimetype": "text/x-python",
   "name": "python",
   "nbconvert_exporter": "python",
   "pygments_lexer": "ipython3",
   "version": "3.11.7"
  }
 },
 "nbformat": 4,
 "nbformat_minor": 5
}
