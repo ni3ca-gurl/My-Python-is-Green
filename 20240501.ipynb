{
 "cells": [
  {
   "cell_type": "code",
   "execution_count": 27,
   "id": "a5ce2c34-a142-48c7-8183-b37d4f8d19b1",
   "metadata": {},
   "outputs": [
    {
     "name": "stdout",
     "output_type": "stream",
     "text": [
      "Hi! Today is the third day of my Python Zero to Hero Learning Course.\n",
      "\n",
      "Last week we went over the following topics:\n",
      "\n",
      "1. Course Introduction : \n",
      "For starters the course instructor covered all the important resources\n",
      "and guides that will help students for this course.\n",
      "We also had a brief introduction to Python and the benefits of learning this amazing language.\n",
      "\n",
      "2. Python Setup:\n",
      "Next we dived in into installing Anaconda, the environment which we are to use throughout the course.\n",
      "We are briefly introduced to Jupyter Notebook, No-install option environments.\n",
      "We learned about Text Editors, Full IDEs and Notebook Environments\n",
      "\n",
      "3. Python Objects and Data Structure Basics:\n",
      "From my experience of learning programming language and dealing with data, I can conclude that the understanding of data types\n",
      "is crucial and very important. We started with numbers, basic arithmetic operations.\n",
      "We also learned the very important method of variable assignments\n",
      "We also dived into strings, yes, very,very important and widely used data type.\n",
      "Talking with strings we are briefly introduced to the concepts of arrays and the different methods of handling strings.\n",
      "\n",
      "The next data structure in the lesson is List. Very important, especially, when handling data.\n",
      "But today we are going to go back to Numbers by reviewing not just the video course but going through the complete reference\n",
      "in the provided notebooks.\n",
      "\n",
      "I know you are excited but hear me out. Let's nail the basics and really establish a strong foundation.\n",
      "Because from here onwards, it will only get more challenging. So to breeze through the hard parts, lets make a strong boat for the journey ahead!\n",
      "\n"
     ]
    }
   ],
   "source": [
    "print(\"Hi! Today is the third day of my Python Zero to Hero Learning Course.\")\n",
    "print(\"\\nLast week we went over the following topics:\\n\\r\")\n",
    "print(\"1. Course Introduction : \\nFor starters the course instructor covered all the important resources\\nand guides that will help students for this course.\")\n",
    "print(\"We also had a brief introduction to Python and the benefits of learning this amazing language.\")\n",
    "print(\"\\n2. Python Setup:\\nNext we dived in into installing Anaconda, the environment which we are to use throughout the course.\")\n",
    "print(\"We are briefly introduced to Jupyter Notebook, No-install option environments.\")\n",
    "print(\"We learned about Text Editors, Full IDEs and Notebook Environments\")\n",
    "print(\"\\n3. Python Objects and Data Structure Basics:\")\n",
    "print(\"From my experience of learning programming language and dealing with data, I can conclude that the understanding of data types\")\n",
    "print(\"is crucial and very important. We started with numbers, basic arithmetic operations.\")\n",
    "print(\"We also learned the very important method of variable assignments\")\n",
    "print(\"We also dived into strings, yes, very,very important and widely used data type.\")\n",
    "print(\"Talking with strings we are briefly introduced to the concepts of arrays and the different methods of handling strings.\")\n",
    "\n",
    "print(\"\\nThe next data structure in the lesson is List. Very important, especially, when handling data.\")\n",
    "print(\"But today we are going to go back to Numbers by reviewing not just the video course but going through the complete reference\")\n",
    "print(\"in the provided notebooks.\\n\\nI know you are excited but hear me out. Let's nail the basics and really establish a strong foundation.\")\n",
    "print(\"Because from here onwards, it will only get more challenging. So to breeze through the hard parts, lets make a strong boat for the journey ahead!\\n\")"
   ]
  },
  {
   "cell_type": "code",
   "execution_count": 32,
   "id": "e1e1b426-cbe3-4d5f-ac8f-805b9cdbab6d",
   "metadata": {},
   "outputs": [
    {
     "name": "stdout",
     "output_type": "stream",
     "text": [
      "\n",
      "REVIEW: Numbers\n",
      "\n",
      "1.) Types of Numbers in Python\n",
      "2.) Basic Arithmetic\n",
      "3.) Differences between classic division and floor division\n",
      "4.) Object Assignment in Python\n",
      "\n"
     ]
    }
   ],
   "source": [
    "print(\"\\nREVIEW: Numbers\\n\")\n",
    "print(\"1.) Types of Numbers in Python\")\n",
    "print(\"2.) Basic Arithmetic\")\n",
    "print(\"3.) Differences between classic division and floor division\")\n",
    "print(\"4.) Object Assignment in Python\\n\")"
   ]
  },
  {
   "cell_type": "code",
   "execution_count": 43,
   "id": "e01b7906-c9ef-4c47-8481-ee44820cd17b",
   "metadata": {},
   "outputs": [
    {
     "name": "stdout",
     "output_type": "stream",
     "text": [
      "\n",
      "Types of Numbers in Python\n",
      "\n",
      "There are several data types for numbers. However, there are two main data type that we wil frequently work with:\n",
      "\n",
      "Examples\t        Number \"Type\"\n",
      "1,2,-5,1000\t        Integers\n",
      "1.2,-0.5,2e2,3E2\tFloating-point numbers\n",
      "\n"
     ]
    }
   ],
   "source": [
    "print(\"\\nTypes of Numbers in Python\")\n",
    "print(\"\\nThere are several data types for numbers. However, there are two main data type that we wil frequently work with:\\n\")\n",
    "print('Examples\t        Number \"Type\"')\n",
    "print(\"1,2,-5,1000\t        Integers\")\n",
    "print(\"1.2,-0.5,2e2,3E2\tFloating-point numbers\\n\")\n",
    "Differences between classic division and floor division"
   ]
  },
  {
   "cell_type": "markdown",
   "id": "93d0ce37-f2a5-45bf-96f4-1bddd2e17f22",
   "metadata": {},
   "source": [
    "Basic Arithmetic"
   ]
  },
  {
   "cell_type": "raw",
   "id": "56acc87d-2515-4885-ad76-2125d22a9de0",
   "metadata": {},
   "source": [
    "# Addition\n",
    " 2+1\n",
    " 30+6674\n",
    " 3289522845+225829 "
   ]
  },
  {
   "cell_type": "code",
   "execution_count": 3,
   "id": "d9868b27-716d-4f3c-8f6f-b951e9baf217",
   "metadata": {},
   "outputs": [
    {
     "name": "stdout",
     "output_type": "stream",
     "text": [
      "3\n",
      "6704\n",
      "289748674\n"
     ]
    }
   ],
   "source": [
    " print(2+1)\n",
    " print(30+6674)\n",
    " print(289522845+225829)"
   ]
  },
  {
   "cell_type": "raw",
   "id": "72beaed3-5f23-46a1-827a-d51dd3a163bb",
   "metadata": {},
   "source": [
    "# Subtraction\n",
    "6-4\n",
    "58-45\n",
    "2874-1352"
   ]
  },
  {
   "cell_type": "code",
   "execution_count": 4,
   "id": "de564396-b41c-4df8-b1f7-3635ea4245d9",
   "metadata": {},
   "outputs": [
    {
     "name": "stdout",
     "output_type": "stream",
     "text": [
      "2\n",
      "13\n",
      "1522\n"
     ]
    }
   ],
   "source": [
    "print(6-4)\n",
    "print(58-45)\n",
    "print(2874-1352)"
   ]
  },
  {
   "cell_type": "raw",
   "id": "808ff6fc-11cc-419a-becd-56fb33ec081c",
   "metadata": {},
   "source": [
    "# Multiplication\n",
    "5*3\n",
    "37*32\n",
    "23435*45743"
   ]
  },
  {
   "cell_type": "code",
   "execution_count": 5,
   "id": "38a7625e-7732-4243-b837-2527380380a6",
   "metadata": {},
   "outputs": [
    {
     "name": "stdout",
     "output_type": "stream",
     "text": [
      "15\n",
      "1184\n",
      "1071987205\n"
     ]
    }
   ],
   "source": [
    "print(5*3)\n",
    "print(37*32)\n",
    "print(23435*45743)"
   ]
  },
  {
   "cell_type": "raw",
   "id": "931adf10-cc86-4b2d-9992-aea8ff263cc0",
   "metadata": {},
   "source": [
    "# Division\n",
    "8/2\n",
    "42/6\n",
    "2456/7367"
   ]
  },
  {
   "cell_type": "code",
   "execution_count": 6,
   "id": "7717964b-a81e-4ed4-853f-c85d486bc479",
   "metadata": {},
   "outputs": [
    {
     "name": "stdout",
     "output_type": "stream",
     "text": [
      "4.0\n",
      "7.0\n",
      "0.33337858015474414\n"
     ]
    }
   ],
   "source": [
    "print(8/2)\n",
    "print(42/6)\n",
    "print(2456/7367)"
   ]
  },
  {
   "cell_type": "markdown",
   "id": "0b8d2fda-2adc-4830-ae70-c23eed172caa",
   "metadata": {},
   "source": [
    "\n",
    "Differences between classic division and floor division\n",
    "\n",
    "The above examples are basic arithmetic operations that most are very familiar with.\n",
    "However, there is still more operations that is relative to the division operation.\n",
    "We are all familiar with the classic division in which we split the dividend (a) with the divisor (b) to gain the quotient (c). \n",
    "a / b = c\n",
    "\n",
    "There are another division methods that is widely used in programming; the Floor Division and the Modulo division.\n",
    "\n",
    "Floor Division:\n",
    "Floor division, also known as integer division, is a type of division operation where the result is the largest integer that is less than or equal to the actual quotient. In other words, it rounds down the result to the nearest integer.\n",
    "\n",
    "The syntax for floor division in python is using the // operator. \n",
    "For example, 10 // 3 will result in 3, as the actual quotient is 3.33, and the floor division rounds it down to 3.\n",
    "\n",
    "Modulo Division:\n",
    "Modulo division, or the modulo operator, is the operation that returns the remainder of a division operation. It represents the amount left over after dividing one number by another.\n",
    "\n",
    "The syntax for modulo division in python is using the % operator. \n",
    "For example, 10 % 3 will result in 1, as the remainder of dividing 10 by 3 is 1.\n",
    "\n",
    "The modulo operator is commonly used to check if a number is even or odd, or to perform various other operations that require the remainder of a division. a division."
   ]
  },
  {
   "cell_type": "raw",
   "id": "50b96159-279b-42e8-bc8b-8d93ed4c4609",
   "metadata": {},
   "source": [
    "# Floor Division\n",
    "8//4\n",
    "8//3"
   ]
  },
  {
   "cell_type": "code",
   "execution_count": 8,
   "id": "844ece28-2174-41b5-aef1-e2d2cd595e09",
   "metadata": {},
   "outputs": [
    {
     "name": "stdout",
     "output_type": "stream",
     "text": [
      "2\n",
      "2\n"
     ]
    }
   ],
   "source": [
    "print(8//4)\n",
    "print(8//3)"
   ]
  },
  {
   "cell_type": "code",
   "execution_count": 11,
   "id": "fa876c11-347c-4257-8266-3704addd533e",
   "metadata": {},
   "outputs": [
    {
     "name": "stdout",
     "output_type": "stream",
     "text": [
      "In classic division, the results should be:\n",
      "2.0\n",
      "2.6666666666666665\n"
     ]
    }
   ],
   "source": [
    "print('In classic division, the results should be:')\n",
    "print(8/4)\n",
    "print(8/3)"
   ]
  },
  {
   "cell_type": "code",
   "execution_count": 1,
   "id": "f74fe491-8d7a-4f61-aba8-652228d7b0c7",
   "metadata": {},
   "outputs": [
    {
     "name": "stdout",
     "output_type": "stream",
     "text": [
      "3.0\n",
      "3.0\n",
      "3.0\n",
      "3.0\n",
      "3\n",
      "3.0\n",
      "3.0\n",
      "3.0\n"
     ]
    }
   ],
   "source": [
    "#Floor Division\n",
    "#Notice that the results of the classic division is also a floating number, \n",
    "#whereas the result of the floor division results to an integer.\n",
    "#Let's do a few more examples:\n",
    "\n",
    "print(9/3)\n",
    "print(9/3.0)\n",
    "print(9.0/3)\n",
    "print(9.0/3.0)\n",
    "print(9//3)\n",
    "print(9//3.0)\n",
    "print(9.0//3)\n",
    "print(9.0//3.0)"
   ]
  },
  {
   "cell_type": "code",
   "execution_count": 17,
   "id": "b7827302-eca2-4e61-80ce-d7b10dd123b1",
   "metadata": {},
   "outputs": [
    {
     "name": "stdout",
     "output_type": "stream",
     "text": [
      "3.3333333333333335\n",
      "3.3333333333333335\n",
      "3.3333333333333335\n",
      "3.3333333333333335\n",
      "3\n",
      "3.0\n",
      "3.0\n",
      "3.0\n"
     ]
    }
   ],
   "source": [
    "# What if it has a remainder:\n",
    "print(10/3)\n",
    "print(10/3.0)\n",
    "print(10.0/3)\n",
    "print(10.0/3.0)\n",
    "print(10//3)\n",
    "print(10//3.0)\n",
    "print(10.0//3)\n",
    "print(10.0//3.0)"
   ]
  },
  {
   "cell_type": "markdown",
   "id": "8d2050c3-d209-4a7c-aea6-b2c7ab116b56",
   "metadata": {},
   "source": [
    "What can you conclude based on above results?\n",
    "\n",
    "From above results we can conclude that the result of a classic division operation always results to a float.\n",
    "\n",
    "When both operands in a division operation are integers, the result is a float.\n",
    "\n",
    "When one of the operands is a float, the result is also a float.\n",
    "\n",
    "\n",
    "In floor division operator // does not always return an integer when one or both operands are floats.\n",
    "\n",
    "When both operands are integers, the result of floor division is an integer. \n",
    "\n",
    "When one or both operands are floats, the result of floor division is a float.\n"
   ]
  },
  {
   "cell_type": "markdown",
   "id": "df6cf6cc-ba02-4f7b-b541-b53097bcdfce",
   "metadata": {},
   "source": [
    "Both floor division and the modulo operation are closely related to the concept of the remainder in a division operation.\n",
    "\n",
    "The remainder is the amount left over after dividing one number by another. \n",
    "\n",
    "It represents the part of the dividend that is not evenly divisible by the divisor.\n",
    "\n",
    "In floor division, the remainder is discarded, and only the quotient part is returned. \n",
    "\n",
    "Floor division rounds down the result to the nearest integer.\n",
    "\n",
    "For example, 17 // 5 = 3, \n",
    "because the quotient of 17 divided by 5 is 3.41, and the floor division operation rounds this down to 3.\n",
    "\n",
    "\n",
    "The relationship between the remainder and modulo division is quite close. \n",
    "\n",
    "The modulo operation (denoted by the % symbol) is used to find the remainder of a division operation.\n",
    "\n",
    "\n",
    "The modulo operator returns the remainder of the division of one number by another. \n",
    "\n",
    "For example, 17 % 5 = 2, \n",
    "which is the same as the remainder in the division operation 17 ÷ 5.\n",
    "\n",
    "In mathematical notation, the remainder of the division of a by b is often denoted as a mod b. \n",
    "\n",
    "So, in the example above, 17 mod 5 = 2. \n",
    "\n",
    "Check out these few examples:"
   ]
  },
  {
   "cell_type": "code",
   "execution_count": 2,
   "id": "13475722-6309-475b-8aa3-2a9bd4b213ea",
   "metadata": {},
   "outputs": [
    {
     "name": "stdout",
     "output_type": "stream",
     "text": [
      "1\n",
      "32\n",
      "37\n",
      "1482\n"
     ]
    }
   ],
   "source": [
    "# Modulo Division\n",
    "print(10%3)\n",
    "print(100%34)\n",
    "print(4987%45)\n",
    "print(158934%26242)\n"
   ]
  },
  {
   "cell_type": "markdown",
   "id": "1cbd2961-d60c-4ac4-a679-d188297152b9",
   "metadata": {},
   "source": [
    "The modulo operation is useful in a variety of programming and mathematical contexts, such as:\n",
    "\n",
    "a.  if a number is even or odd (e.g., a number is even if x % 2 = 0).\n",
    "\n",
    "b. Implementing cyclical behavior, such as determining the day of the week (e.g., the day of the week for a given date can be calculated as date % 7).\n",
    "\n",
    "c. Hashing algorithms, where the modulo operation is used to map a large range of values to a smaller range."
   ]
  },
  {
   "cell_type": "markdown",
   "id": "814e5e29-c589-4ef9-978f-fafda34a69e0",
   "metadata": {},
   "source": [
    "In summary:\n",
    "\n",
    "Floor division discards the remainder and returns only the quotient.\n",
    "\r\n",
    "The modulo operation returns the remainder itself."
   ]
  },
  {
   "cell_type": "markdown",
   "id": "fbe52620-812f-4343-b22d-37b67ab8f0c6",
   "metadata": {},
   "source": [
    "There are few other arithmetic operations, and below are the way we can do them using python.\n",
    "\n",
    "#Powers, exponentsand root\n",
    "\n",
    "x to the power y is done like below:\n",
    "\n",
    "x**y"
   ]
  },
  {
   "cell_type": "code",
   "execution_count": 3,
   "id": "e2aa1bef-c01e-43a8-81eb-900845badb5c",
   "metadata": {},
   "outputs": [
    {
     "name": "stdout",
     "output_type": "stream",
     "text": [
      "8\n"
     ]
    }
   ],
   "source": [
    "print(2**3)"
   ]
  },
  {
   "cell_type": "code",
   "execution_count": 8,
   "id": "971f21c9-b220-4614-8123-c284a05061fd",
   "metadata": {},
   "outputs": [
    {
     "name": "stdout",
     "output_type": "stream",
     "text": [
      "2.0\n"
     ]
    }
   ],
   "source": [
    "print(8**(1/3))"
   ]
  },
  {
   "cell_type": "markdown",
   "id": "ff6c8fd3-0208-40cf-a842-20954e6cc2c3",
   "metadata": {},
   "source": [
    "It is also important to take note the order of how arithmetic operations are performed in an equation similar to the previous example.\n",
    "\n",
    "The order of arithmetic operations in Python is commonly known as the PEMDAS or BODMAS rule. This stands for:\n",
    "\n",
    "P - Parentheses\n",
    "\n",
    "E - Exponents\n",
    "\n",
    "M - Multiplication\n",
    "\n",
    "D - Division\n",
    "\n",
    "A - Addition\n",
    "\n",
    "S - Subtraction\n",
    "\n",
    "\n",
    "The order of operations is as follows:\n",
    "\n",
    "Parentheses () - Expressions inside parentheses are evaluated first.\n",
    "\n",
    "Exponents ** - Exponents are evaluated next.\n",
    "\n",
    "Multiplication * and Division / - Multiplication and division are performed left-to-right.\n",
    "\n",
    "Addition + and Subtraction - - Addition and subtraction are performed left-to-right.\n",
    "left-to-right."
   ]
  },
  {
   "cell_type": "code",
   "execution_count": 19,
   "id": "5f0b6661-bf21-4af6-a653-a9fe3d43a1c2",
   "metadata": {},
   "outputs": [
    {
     "name": "stdout",
     "output_type": "stream",
     "text": [
      "For example, in the expression:\n",
      "x = 2 + 3 * 4 - 6 / 2\n",
      "The order of operations would be:\n",
      "6 / 2 = 3.0\n",
      "3 * 4 = 12\n",
      "2 + 12 = 14\n",
      "14 - 3 = 11\n",
      "So, the final result would be 11.\n"
     ]
    }
   ],
   "source": [
    "print('For example, in the expression:')\n",
    "\n",
    "print('x = 2 + 3 * 4 - 6 / 2')\n",
    "\n",
    "print('The order of operations would be:')\n",
    "\n",
    "print('6 / 2 = ' + str(6 / 2))\n",
    "print('3 * 4 = ' + str(3 * 4))\n",
    "print('2 + 12 = ' + str(2 + 12))\n",
    "print('14 - 3 = ' + str(14 - 3))\n",
    "\n",
    "print('So, the final result would be 11.')"
   ]
  },
  {
   "cell_type": "code",
   "execution_count": null,
   "id": "7714386a-fdd4-4937-b662-cde3848fa949",
   "metadata": {},
   "outputs": [],
   "source": []
  }
 ],
 "metadata": {
  "kernelspec": {
   "display_name": "Python 3 (ipykernel)",
   "language": "python",
   "name": "python3"
  },
  "language_info": {
   "codemirror_mode": {
    "name": "ipython",
    "version": 3
   },
   "file_extension": ".py",
   "mimetype": "text/x-python",
   "name": "python",
   "nbconvert_exporter": "python",
   "pygments_lexer": "ipython3",
   "version": "3.11.7"
  }
 },
 "nbformat": 4,
 "nbformat_minor": 5
}
